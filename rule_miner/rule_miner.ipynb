{
 "cells": [
  {
   "cell_type": "code",
   "execution_count": 1,
   "id": "cc72188e",
   "metadata": {},
   "outputs": [],
   "source": [
    "import numpy as np\n",
    "from ogb.lsc import WikiKG90MDataset\n",
    "from tqdm import tqdm"
   ]
  },
  {
   "cell_type": "code",
   "execution_count": null,
   "id": "7e9c1223",
   "metadata": {},
   "outputs": [],
   "source": [
    "# the data path of the numpy file of train_hrt\n",
    "train_hrt_data_path = './ogb/wikikg90m_kddcup2021/processed/train_hrt.npy'\n",
    "# the save directory of files\n",
    "file_save_dir = './rules_input_file/'"
   ]
  },
  {
   "cell_type": "code",
   "execution_count": 2,
   "id": "5cf7b648",
   "metadata": {},
   "outputs": [],
   "source": [
    "# convert the numpy array of triples into txt file, to match the format of the input file of AMIE 3 (a rule miner)\n",
    "def convert_to_file(triples, save_path):\n",
    "    fp = open(save_path, 'w')\n",
    "    for triple in tqdm(triples):\n",
    "        fp.write('%d\\t%d\\t%d\\n'%(triple[0], triple[1], triple[2]))\n",
    "    fp.close()"
   ]
  },
  {
   "cell_type": "code",
   "execution_count": 4,
   "id": "205714fd",
   "metadata": {},
   "outputs": [],
   "source": [
    "# load the numpy array of train_hrt\n",
    "train_hrt = np.load(train_hrt_data_path)\n",
    "\n",
    "# split the data\n",
    "train_hrt_0 = train_hrt[0:2_0000_0000]\n",
    "train_hrt_1 = train_hrt[2_0000_0000:4_0000_0000]\n",
    "train_hrt_2 = np.vstack((train_hrt[4_0000_0000:], train_hrt[:1_0000_0000]))\n",
    "train_hrt_3 = train_hrt[1_0000_0000:3_0000_0000]\n",
    "train_hrt_4 = train_hrt[3_0000_0000:]\n",
    "\n",
    "# convert the numpy array to file \n",
    "convert_to_file(train_hrt_0, file_save_dir + 'train_hrt_0.txt')\n",
    "convert_to_file(train_hrt_1, file_save_dir + 'train_hrt_1.txt')\n",
    "convert_to_file(train_hrt_2, file_save_dir + 'train_hrt_2.txt')\n",
    "convert_to_file(train_hrt_3, file_save_dir + 'train_hrt_3.txt')\n",
    "convert_to_file(train_hrt_4, file_save_dir + 'train_hrt_4.txt')"
   ]
  },
  {
   "cell_type": "code",
   "execution_count": null,
   "id": "464b79be",
   "metadata": {},
   "outputs": [],
   "source": [
    "# we use the code of the github repository --- https://github.com/lajus/amie\n",
    "# the script of running AMIE 3 to mine rules: \n",
    "# java -XX:-UseGCOverheadLimit -Xmx[MAX_HEAP_SPACE] -jar amie-dev.jar [TSV file]\n",
    "# in this experment, the MAX_HEAP_SPACE is set to be 400G, and an example of mine rules from Subgraph 0 is as follows.\n",
    "java -XX:-UseGCOverheadLimit -Xmx400G -jar amie-dev.jar './rules_input_file/train_hrt_0.txt'"
   ]
  }
 ],
 "metadata": {
  "kernelspec": {
   "display_name": "Python [conda env:.conda-jjchen_pytorch] *",
   "language": "python",
   "name": "conda-env-.conda-jjchen_pytorch-py"
  },
  "language_info": {
   "codemirror_mode": {
    "name": "ipython",
    "version": 3
   },
   "file_extension": ".py",
   "mimetype": "text/x-python",
   "name": "python",
   "nbconvert_exporter": "python",
   "pygments_lexer": "ipython3",
   "version": "3.8.1"
  }
 },
 "nbformat": 4,
 "nbformat_minor": 5
}
